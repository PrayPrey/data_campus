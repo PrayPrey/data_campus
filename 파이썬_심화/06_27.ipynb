{
 "cells": [
  {
   "cell_type": "code",
   "execution_count": 1,
   "id": "bc047719",
   "metadata": {},
   "outputs": [],
   "source": [
    "import pandas as pd"
   ]
  },
  {
   "cell_type": "markdown",
   "id": "caa8aac9",
   "metadata": {},
   "source": [
    "# 자료형"
   ]
  },
  {
   "cell_type": "code",
   "execution_count": 2,
   "id": "d7f4b927",
   "metadata": {},
   "outputs": [
    {
     "data": {
      "text/plain": [
       "'\\n    무한대까지 할당가능'"
      ]
     },
     "execution_count": 2,
     "metadata": {},
     "output_type": "execute_result"
    }
   ],
   "source": [
    "a = 1 \n",
    "# identifier = expression (하나의 결과값으로 축약 가능한 것[데이터로 축약할 수 있는 것]이 오른쪽에 옴; 함수도 가능)\n",
    "# 4가지 숫자형 변수\n",
    "\n"
   ]
  },
  {
   "cell_type": "code",
   "execution_count": null,
   "id": "4f3ed05a",
   "metadata": {},
   "outputs": [],
   "source": []
  },
  {
   "cell_type": "markdown",
   "id": "35461fba",
   "metadata": {},
   "source": [
    "# Arbitary precision\n",
    "- 정수"
   ]
  },
  {
   "cell_type": "code",
   "execution_count": 3,
   "id": "8ed3f243",
   "metadata": {},
   "outputs": [
    {
     "data": {
      "text/plain": [
       "' 무한대까지 할당가능 '"
      ]
     },
     "execution_count": 3,
     "metadata": {},
     "output_type": "execute_result"
    }
   ],
   "source": [
    "# 숫자형 변수의 특징은 arbitary precision : overflow가 일어나지 않는 형태의 숫자 ; 숫자의 범위가 없음\n",
    "\"\"\" 무한대까지 할당가능 \"\"\""
   ]
  },
  {
   "cell_type": "markdown",
   "id": "558bc806",
   "metadata": {},
   "source": [
    "# Interning"
   ]
  },
  {
   "cell_type": "code",
   "execution_count": 4,
   "id": "6ec1809a",
   "metadata": {},
   "outputs": [
    {
     "name": "stderr",
     "output_type": "stream",
     "text": [
      "<>:2: SyntaxWarning: \"is\" with a literal. Did you mean \"==\"?\n",
      "<>:2: SyntaxWarning: \"is\" with a literal. Did you mean \"==\"?\n",
      "C:\\Users\\yoon3\\AppData\\Local\\Temp\\ipykernel_5824\\3965449687.py:2: SyntaxWarning: \"is\" with a literal. Did you mean \"==\"?\n",
      "  1 is 1 # (할당 위치를 확인)\n"
     ]
    },
    {
     "data": {
      "text/plain": [
       "True"
      ]
     },
     "execution_count": 4,
     "metadata": {},
     "output_type": "execute_result"
    }
   ],
   "source": [
    "1 == 1 #(값을 확인)\n",
    "1 is 1 # (할당 위치를 확인)"
   ]
  },
  {
   "cell_type": "code",
   "execution_count": 6,
   "id": "9eccf06c",
   "metadata": {},
   "outputs": [
    {
     "data": {
      "text/plain": [
       "False"
      ]
     },
     "execution_count": 6,
     "metadata": {},
     "output_type": "execute_result"
    }
   ],
   "source": [
    "a = 1000\n",
    "b = 1000\n",
    "a is b"
   ]
  },
  {
   "cell_type": "code",
   "execution_count": 5,
   "id": "2392c4e4",
   "metadata": {},
   "outputs": [
    {
     "data": {
      "text/plain": [
       "True"
      ]
     },
     "execution_count": 5,
     "metadata": {},
     "output_type": "execute_result"
    }
   ],
   "source": [
    "a = 255\n",
    "b = 255\n",
    "a is b"
   ]
  },
  {
   "cell_type": "code",
   "execution_count": null,
   "id": "ed9fe753",
   "metadata": {},
   "outputs": [],
   "source": [
    "# -255 ~ 255 까지는 캐시를 해버림 -> 속도향상을 위해서 Interning을 시킴 "
   ]
  },
  {
   "cell_type": "code",
   "execution_count": 7,
   "id": "59904395",
   "metadata": {},
   "outputs": [],
   "source": [
    "# 4가지 정수 -> 2, 10, 8, 16진법"
   ]
  },
  {
   "cell_type": "markdown",
   "id": "092275ef",
   "metadata": {},
   "source": [
    "# literal\n",
    "\n",
    "- literal : 특정한 데이터를 생성하기 위해서 사용하는 것.\n",
    "\n",
    "리터럴¶\n",
    "\n",
    "리터럴(literal)은 몇몇 내장형들의 상숫값을 위한 표기법입니다."
   ]
  },
  {
   "cell_type": "code",
   "execution_count": 11,
   "id": "95ce19e2",
   "metadata": {},
   "outputs": [
    {
     "data": {
      "text/plain": [
       "107"
      ]
     },
     "execution_count": 11,
     "metadata": {},
     "output_type": "execute_result"
    }
   ],
   "source": [
    "0x6b \n",
    "# 객체 기반으므로 literal를 사용하는 것이 작음.\n",
    "# 파이썬에서 정수는 literal 없이 데이터를 생성할 수 있다,"
   ]
  },
  {
   "cell_type": "code",
   "execution_count": 54,
   "id": "4b7f00a4",
   "metadata": {},
   "outputs": [
    {
     "ename": "TypeError",
     "evalue": "unhashable type: 'list'",
     "output_type": "error",
     "traceback": [
      "\u001b[1;31m---------------------------------------------------------------------------\u001b[0m",
      "\u001b[1;31mTypeError\u001b[0m                                 Traceback (most recent call last)",
      "Input \u001b[1;32mIn [54]\u001b[0m, in \u001b[0;36m<cell line: 1>\u001b[1;34m()\u001b[0m\n\u001b[1;32m----> 1\u001b[0m {[\u001b[38;5;241m1\u001b[39m,\u001b[38;5;241m2\u001b[39m,\u001b[38;5;241m3\u001b[39m]}\n",
      "\u001b[1;31mTypeError\u001b[0m: unhashable type: 'list'"
     ]
    }
   ],
   "source": [
    "{[1,2,3]}"
   ]
  },
  {
   "cell_type": "markdown",
   "id": "700ebbd5",
   "metadata": {},
   "source": [
    "# 부동소수점"
   ]
  },
  {
   "cell_type": "code",
   "execution_count": 14,
   "id": "ae7ede39",
   "metadata": {},
   "outputs": [
    {
     "data": {
      "text/plain": [
       "0.30000000000000004"
      ]
     },
     "execution_count": 14,
     "metadata": {},
     "output_type": "execute_result"
    }
   ],
   "source": [
    "# 부동소수점의 literal은 . 이다.\n",
    "# round off error\n",
    "# 컴퓨터는 2진수로 나타내기 때문에 부동소수점 error, 근사적으로 다가가기 때문에, 정확하게 계산할 수 없다.\n",
    "# 정확한 값을 계산하는 것이 아니다!!\n",
    "# 다른 프로그래밍 언어도 똑같다.\n",
    "0.1 + 0.1 + 0.1"
   ]
  },
  {
   "cell_type": "markdown",
   "id": "c8b81f78",
   "metadata": {},
   "source": [
    "## Arbitary precision 과는 다르게, float은 근사적으로 계산한다."
   ]
  },
  {
   "cell_type": "code",
   "execution_count": 15,
   "id": "a8e59854",
   "metadata": {},
   "outputs": [
    {
     "data": {
      "text/plain": [
       "sys.float_info(max=1.7976931348623157e+308, max_exp=1024, max_10_exp=308, min=2.2250738585072014e-308, min_exp=-1021, min_10_exp=-307, dig=15, mant_dig=53, epsilon=2.220446049250313e-16, radix=2, rounds=1)"
      ]
     },
     "execution_count": 15,
     "metadata": {},
     "output_type": "execute_result"
    }
   ],
   "source": [
    "import sys\n",
    "sys.float_info\n",
    "# 가장 큰 숫자를 넘어가면 무한대로 인식한다...!"
   ]
  },
  {
   "cell_type": "code",
   "execution_count": 19,
   "id": "38746862",
   "metadata": {},
   "outputs": [
    {
     "data": {
      "text/plain": [
       "True"
      ]
     },
     "execution_count": 19,
     "metadata": {},
     "output_type": "execute_result"
    }
   ],
   "source": [
    "1.7976931348623157e+308 == 1.7976931348623157e+308+1\n",
    "\n",
    "# 같음.. 근사적으로 계산해서 골치가 아프다..\n",
    "# 이런 내용을 알고 있어서 복잡한 내용을 진행이 가능하다.\n",
    "# 숫자의 특정 패턴을 알고 있어야 진행이 가능하다."
   ]
  },
  {
   "cell_type": "code",
   "execution_count": 21,
   "id": "b5790145",
   "metadata": {},
   "outputs": [
    {
     "data": {
      "text/plain": [
       "7.5"
      ]
     },
     "execution_count": 21,
     "metadata": {},
     "output_type": "execute_result"
    }
   ],
   "source": [
    "# 명시적 형변환 (coercion)\n",
    "# 정수와 소수를 더하면 소수가 되게 만들었기 때문이다..\n",
    "int(3) + float(4.5)"
   ]
  },
  {
   "cell_type": "markdown",
   "id": "b12ced80",
   "metadata": {},
   "source": [
    "## Coersion\n",
    "같은 형의 두 인자를 수반하는 연산이 일어나는 동안, 한 형의 인스턴스를 다른 형으로 묵시적으로 변환하는 것. 예를 들어, int(3.15)는 실수를 정수 3으로 변환합니다. 하지만, 3+4.5 에서, 각 인자는 다른 형이고 (하나는 int, 다른 하나는 float), 둘을 더하기 전에 같은 형으로 변환해야 합니다. 그렇지 않으면 TypeError를 일으킵니다. 코어션 없이는, 호환되는 형들조차도 프로그래머가 같은 형으로 정규화해주어야 합니다, 예를 들어, 그냥 3+4.5 하는 대신 float(3)+4.5."
   ]
  },
  {
   "cell_type": "markdown",
   "id": "2a651dbf",
   "metadata": {},
   "source": [
    "## 숫자형 4번째 타임은 Bool 타입이다.\n",
    "- True의 타입은 1, False는 0이다, >> 예외없다.\n",
    "- 항상 대체 가능하다."
   ]
  },
  {
   "cell_type": "code",
   "execution_count": 22,
   "id": "040a2274",
   "metadata": {},
   "outputs": [],
   "source": [
    "# 숫자형 4가지. 정수( int ), 부동소수점수( float ), 복소수( complex ), True / False (bool): 2진법 / 8진법 / 10진법 / 16진법"
   ]
  },
  {
   "cell_type": "code",
   "execution_count": 28,
   "id": "a2d76630",
   "metadata": {},
   "outputs": [
    {
     "ename": "SyntaxError",
     "evalue": "bytes can only contain ASCII literal characters. (3867655465.py, line 1)",
     "output_type": "error",
     "traceback": [
      "\u001b[1;36m  Input \u001b[1;32mIn [28]\u001b[1;36m\u001b[0m\n\u001b[1;33m    b'파이썬'\u001b[0m\n\u001b[1;37m          ^\u001b[0m\n\u001b[1;31mSyntaxError\u001b[0m\u001b[1;31m:\u001b[0m bytes can only contain ASCII literal characters.\n"
     ]
    }
   ],
   "source": [
    "b'파이썬'\n",
    "# btype은 128개의 문자만 쓸 수 있기 때문에 Unicode를 사용해야한다."
   ]
  },
  {
   "cell_type": "code",
   "execution_count": 30,
   "id": "a914c69d",
   "metadata": {},
   "outputs": [
    {
     "data": {
      "text/plain": [
       "b'noon'"
      ]
     },
     "execution_count": 30,
     "metadata": {},
     "output_type": "execute_result"
    }
   ],
   "source": [
    "b'noon'\n",
    "# Byte 내로 들어가는 것은 반환이 되어진다."
   ]
  },
  {
   "cell_type": "markdown",
   "id": "5dc1b328",
   "metadata": {},
   "source": [
    "# 문자형 4가지.\n",
    "\n",
    "- Unicode\n",
    "- bytes\n",
    "- bytearray : mutable data type  : list와 tuple의 차이로 알 수 있다.\n",
    "- Tensor나 Pytorch에서 Byte를 강제시키기 위해서 \n",
    "\n",
    "## 문자열부터는 어떤 데이터 타입으로 바뀐다??\n",
    "- 순서가 있다 : 문자는 쪼갤 수 있다 (문자를 하나로 담는 것을 container이라 한다.)\n",
    "- 숫자 빼고는 다 container이다.\n",
    "    - container의 종류는 homo는(같은 데이터 타입만) hetero는(다른 데이터 타입)도 핸들링이 가능하다\n",
    "    "
   ]
  },
  {
   "cell_type": "code",
   "execution_count": 33,
   "id": "48154fee",
   "metadata": {},
   "outputs": [
    {
     "data": {
      "text/plain": [
       "array(['1', '2', '3', '4'], dtype='<U11')"
      ]
     },
     "execution_count": 33,
     "metadata": {},
     "output_type": "execute_result"
    }
   ],
   "source": [
    "import numpy as np\n",
    "\n",
    "a = np.array([1,2,3,'4'])\n",
    "a # Coersion이 발생 (Hetero로 만들어 졌기때문)"
   ]
  },
  {
   "cell_type": "code",
   "execution_count": 36,
   "id": "3d29433e",
   "metadata": {
    "scrolled": true
   },
   "outputs": [
    {
     "ename": "TypeError",
     "evalue": "Cannot convert the argument `type_value`: '2' to a TensorFlow DType.",
     "output_type": "error",
     "traceback": [
      "\u001b[1;31m---------------------------------------------------------------------------\u001b[0m",
      "\u001b[1;31mAttributeError\u001b[0m                            Traceback (most recent call last)",
      "File \u001b[1;32m~\\anaconda3\\lib\\site-packages\\tensorflow\\python\\framework\\constant_op.py:98\u001b[0m, in \u001b[0;36mconvert_to_eager_tensor\u001b[1;34m(value, ctx, dtype)\u001b[0m\n\u001b[0;32m     97\u001b[0m \u001b[38;5;28;01mtry\u001b[39;00m:\n\u001b[1;32m---> 98\u001b[0m   dtype \u001b[38;5;241m=\u001b[39m \u001b[43mdtype\u001b[49m\u001b[38;5;241;43m.\u001b[39;49m\u001b[43mas_datatype_enum\u001b[49m\n\u001b[0;32m     99\u001b[0m \u001b[38;5;28;01mexcept\u001b[39;00m \u001b[38;5;167;01mAttributeError\u001b[39;00m:\n",
      "\u001b[1;31mAttributeError\u001b[0m: 'str' object has no attribute 'as_datatype_enum'",
      "\nDuring handling of the above exception, another exception occurred:\n",
      "\u001b[1;31mTypeError\u001b[0m                                 Traceback (most recent call last)",
      "Input \u001b[1;32mIn [36]\u001b[0m, in \u001b[0;36m<cell line: 3>\u001b[1;34m()\u001b[0m\n\u001b[0;32m      1\u001b[0m \u001b[38;5;28;01mimport\u001b[39;00m \u001b[38;5;21;01mtensorflow\u001b[39;00m \u001b[38;5;28;01mas\u001b[39;00m \u001b[38;5;21;01mtf\u001b[39;00m\n\u001b[1;32m----> 3\u001b[0m a \u001b[38;5;241m=\u001b[39m \u001b[43mtf\u001b[49m\u001b[38;5;241;43m.\u001b[39;49m\u001b[43mconstant\u001b[49m\u001b[43m(\u001b[49m\u001b[38;5;241;43m1\u001b[39;49m\u001b[43m,\u001b[49m\u001b[38;5;124;43m'\u001b[39;49m\u001b[38;5;124;43m2\u001b[39;49m\u001b[38;5;124;43m'\u001b[39;49m\u001b[43m)\u001b[49m\n\u001b[0;32m      4\u001b[0m a\n",
      "File \u001b[1;32m~\\anaconda3\\lib\\site-packages\\tensorflow\\python\\framework\\constant_op.py:267\u001b[0m, in \u001b[0;36mconstant\u001b[1;34m(value, dtype, shape, name)\u001b[0m\n\u001b[0;32m    170\u001b[0m \u001b[38;5;129m@tf_export\u001b[39m(\u001b[38;5;124m\"\u001b[39m\u001b[38;5;124mconstant\u001b[39m\u001b[38;5;124m\"\u001b[39m, v1\u001b[38;5;241m=\u001b[39m[])\n\u001b[0;32m    171\u001b[0m \u001b[38;5;28;01mdef\u001b[39;00m \u001b[38;5;21mconstant\u001b[39m(value, dtype\u001b[38;5;241m=\u001b[39m\u001b[38;5;28;01mNone\u001b[39;00m, shape\u001b[38;5;241m=\u001b[39m\u001b[38;5;28;01mNone\u001b[39;00m, name\u001b[38;5;241m=\u001b[39m\u001b[38;5;124m\"\u001b[39m\u001b[38;5;124mConst\u001b[39m\u001b[38;5;124m\"\u001b[39m):\n\u001b[0;32m    172\u001b[0m   \u001b[38;5;124;03m\"\"\"Creates a constant tensor from a tensor-like object.\u001b[39;00m\n\u001b[0;32m    173\u001b[0m \n\u001b[0;32m    174\u001b[0m \u001b[38;5;124;03m  Note: All eager `tf.Tensor` values are immutable (in contrast to\u001b[39;00m\n\u001b[1;32m   (...)\u001b[0m\n\u001b[0;32m    265\u001b[0m \u001b[38;5;124;03m    ValueError: if called on a symbolic tensor.\u001b[39;00m\n\u001b[0;32m    266\u001b[0m \u001b[38;5;124;03m  \"\"\"\u001b[39;00m\n\u001b[1;32m--> 267\u001b[0m   \u001b[38;5;28;01mreturn\u001b[39;00m \u001b[43m_constant_impl\u001b[49m\u001b[43m(\u001b[49m\u001b[43mvalue\u001b[49m\u001b[43m,\u001b[49m\u001b[43m \u001b[49m\u001b[43mdtype\u001b[49m\u001b[43m,\u001b[49m\u001b[43m \u001b[49m\u001b[43mshape\u001b[49m\u001b[43m,\u001b[49m\u001b[43m \u001b[49m\u001b[43mname\u001b[49m\u001b[43m,\u001b[49m\u001b[43m \u001b[49m\u001b[43mverify_shape\u001b[49m\u001b[38;5;241;43m=\u001b[39;49m\u001b[38;5;28;43;01mFalse\u001b[39;49;00m\u001b[43m,\u001b[49m\n\u001b[0;32m    268\u001b[0m \u001b[43m                        \u001b[49m\u001b[43mallow_broadcast\u001b[49m\u001b[38;5;241;43m=\u001b[39;49m\u001b[38;5;28;43;01mTrue\u001b[39;49;00m\u001b[43m)\u001b[49m\n",
      "File \u001b[1;32m~\\anaconda3\\lib\\site-packages\\tensorflow\\python\\framework\\constant_op.py:279\u001b[0m, in \u001b[0;36m_constant_impl\u001b[1;34m(value, dtype, shape, name, verify_shape, allow_broadcast)\u001b[0m\n\u001b[0;32m    277\u001b[0m     \u001b[38;5;28;01mwith\u001b[39;00m trace\u001b[38;5;241m.\u001b[39mTrace(\u001b[38;5;124m\"\u001b[39m\u001b[38;5;124mtf.constant\u001b[39m\u001b[38;5;124m\"\u001b[39m):\n\u001b[0;32m    278\u001b[0m       \u001b[38;5;28;01mreturn\u001b[39;00m _constant_eager_impl(ctx, value, dtype, shape, verify_shape)\n\u001b[1;32m--> 279\u001b[0m   \u001b[38;5;28;01mreturn\u001b[39;00m \u001b[43m_constant_eager_impl\u001b[49m\u001b[43m(\u001b[49m\u001b[43mctx\u001b[49m\u001b[43m,\u001b[49m\u001b[43m \u001b[49m\u001b[43mvalue\u001b[49m\u001b[43m,\u001b[49m\u001b[43m \u001b[49m\u001b[43mdtype\u001b[49m\u001b[43m,\u001b[49m\u001b[43m \u001b[49m\u001b[43mshape\u001b[49m\u001b[43m,\u001b[49m\u001b[43m \u001b[49m\u001b[43mverify_shape\u001b[49m\u001b[43m)\u001b[49m\n\u001b[0;32m    281\u001b[0m g \u001b[38;5;241m=\u001b[39m ops\u001b[38;5;241m.\u001b[39mget_default_graph()\n\u001b[0;32m    282\u001b[0m tensor_value \u001b[38;5;241m=\u001b[39m attr_value_pb2\u001b[38;5;241m.\u001b[39mAttrValue()\n",
      "File \u001b[1;32m~\\anaconda3\\lib\\site-packages\\tensorflow\\python\\framework\\constant_op.py:304\u001b[0m, in \u001b[0;36m_constant_eager_impl\u001b[1;34m(ctx, value, dtype, shape, verify_shape)\u001b[0m\n\u001b[0;32m    302\u001b[0m \u001b[38;5;28;01mdef\u001b[39;00m \u001b[38;5;21m_constant_eager_impl\u001b[39m(ctx, value, dtype, shape, verify_shape):\n\u001b[0;32m    303\u001b[0m   \u001b[38;5;124;03m\"\"\"Creates a constant on the current device.\"\"\"\u001b[39;00m\n\u001b[1;32m--> 304\u001b[0m   t \u001b[38;5;241m=\u001b[39m \u001b[43mconvert_to_eager_tensor\u001b[49m\u001b[43m(\u001b[49m\u001b[43mvalue\u001b[49m\u001b[43m,\u001b[49m\u001b[43m \u001b[49m\u001b[43mctx\u001b[49m\u001b[43m,\u001b[49m\u001b[43m \u001b[49m\u001b[43mdtype\u001b[49m\u001b[43m)\u001b[49m\n\u001b[0;32m    305\u001b[0m   \u001b[38;5;28;01mif\u001b[39;00m shape \u001b[38;5;129;01mis\u001b[39;00m \u001b[38;5;28;01mNone\u001b[39;00m:\n\u001b[0;32m    306\u001b[0m     \u001b[38;5;28;01mreturn\u001b[39;00m t\n",
      "File \u001b[1;32m~\\anaconda3\\lib\\site-packages\\tensorflow\\python\\framework\\constant_op.py:100\u001b[0m, in \u001b[0;36mconvert_to_eager_tensor\u001b[1;34m(value, ctx, dtype)\u001b[0m\n\u001b[0;32m     98\u001b[0m     dtype \u001b[38;5;241m=\u001b[39m dtype\u001b[38;5;241m.\u001b[39mas_datatype_enum\n\u001b[0;32m     99\u001b[0m   \u001b[38;5;28;01mexcept\u001b[39;00m \u001b[38;5;167;01mAttributeError\u001b[39;00m:\n\u001b[1;32m--> 100\u001b[0m     dtype \u001b[38;5;241m=\u001b[39m \u001b[43mdtypes\u001b[49m\u001b[38;5;241;43m.\u001b[39;49m\u001b[43mas_dtype\u001b[49m\u001b[43m(\u001b[49m\u001b[43mdtype\u001b[49m\u001b[43m)\u001b[49m\u001b[38;5;241m.\u001b[39mas_datatype_enum\n\u001b[0;32m    101\u001b[0m ctx\u001b[38;5;241m.\u001b[39mensure_initialized()\n\u001b[0;32m    102\u001b[0m \u001b[38;5;28;01mreturn\u001b[39;00m ops\u001b[38;5;241m.\u001b[39mEagerTensor(value, ctx\u001b[38;5;241m.\u001b[39mdevice_name, dtype)\n",
      "File \u001b[1;32m~\\anaconda3\\lib\\site-packages\\tensorflow\\python\\framework\\dtypes.py:721\u001b[0m, in \u001b[0;36mas_dtype\u001b[1;34m(type_value)\u001b[0m\n\u001b[0;32m    718\u001b[0m \u001b[38;5;28;01mif\u001b[39;00m \u001b[38;5;28misinstance\u001b[39m(type_value, _dtypes\u001b[38;5;241m.\u001b[39mDType):\n\u001b[0;32m    719\u001b[0m   \u001b[38;5;28;01mreturn\u001b[39;00m _INTERN_TABLE[type_value\u001b[38;5;241m.\u001b[39mas_datatype_enum]\n\u001b[1;32m--> 721\u001b[0m \u001b[38;5;28;01mraise\u001b[39;00m \u001b[38;5;167;01mTypeError\u001b[39;00m(\u001b[38;5;124mf\u001b[39m\u001b[38;5;124m\"\u001b[39m\u001b[38;5;124mCannot convert the argument `type_value`: \u001b[39m\u001b[38;5;132;01m{\u001b[39;00mtype_value\u001b[38;5;132;01m!r}\u001b[39;00m\u001b[38;5;124m \u001b[39m\u001b[38;5;124m\"\u001b[39m\n\u001b[0;32m    722\u001b[0m                 \u001b[38;5;124m\"\u001b[39m\u001b[38;5;124mto a TensorFlow DType.\u001b[39m\u001b[38;5;124m\"\u001b[39m)\n",
      "\u001b[1;31mTypeError\u001b[0m: Cannot convert the argument `type_value`: '2' to a TensorFlow DType."
     ]
    }
   ],
   "source": [
    "import tensorflow as tf\n",
    "\n",
    "a = tf.constant(1,'2') # Container 종류가 homo이므로... 오류가 발생.\n",
    "a"
   ]
  },
  {
   "cell_type": "code",
   "execution_count": 37,
   "id": "34743ac3",
   "metadata": {},
   "outputs": [],
   "source": [
    "# Sequential data 타입은 순서가 있다."
   ]
  },
  {
   "cell_type": "markdown",
   "id": "a9ff689a",
   "metadata": {},
   "source": [
    "## duck-typing (덕 타이핑)\n",
    "\n",
    "    올바른 인터페이스를 가졌는지 판단하는데 객체의 형을 보지 않는 프로그래밍 스타일; 대신, 단순히 메서드나 어트리뷰트가 호출되거나 사용됩니다 (“오리처럼 보이고 오리처럼 꽥꽥댄다면, 그것은 오리다.”) 특정한 형 대신에 인터페이스를 강조함으로써, 잘 설계된 코드는 다형적인 치환을 허락함으로써 유연성을 개선할 수 있습니다. 덕 타이핑은 type() 이나 isinstance() 을 사용한 검사를 피합니다. (하지만, 덕 타이핑이 추상 베이스 클래스 로 보완될 수 있음에 유의해야 합니다.) 대신에, hasattr() 검사나 EAFP 프로그래밍을 씁니다.\n"
   ]
  },
  {
   "cell_type": "code",
   "execution_count": null,
   "id": "54ed0d23",
   "metadata": {},
   "outputs": [],
   "source": [
    "# Protocol 만 따르면, 상속을 받지 않아도, 규칙만 따르면 상속받은 것처럼 봐주겠다.\n",
    "# 순서가 있는 데이터 타입을 만들기 위해서, \n",
    "# __len__ / __get__ 이 있으면, Sequential 데이터 타입처럼 쓸 수 있다. 즉,Indexing과 Slicing이 가능하다. (Duck type)\n",
    "# 여러 개를 담은 Container에서 dir()을 통해서 __len__, __get__이 있는 지 봐야한다. 하나라도 없으면, Indexing, Slicing 불가능하다.\n",
    "# 새로운 변수를 만들 때, __len__ 와 __get__을 설정하여야 한다."
   ]
  },
  {
   "cell_type": "code",
   "execution_count": 40,
   "id": "b6394589",
   "metadata": {
    "scrolled": true
   },
   "outputs": [
    {
     "data": {
      "text/plain": [
       "['__add__',\n",
       " '__class__',\n",
       " '__contains__',\n",
       " '__delattr__',\n",
       " '__dir__',\n",
       " '__doc__',\n",
       " '__eq__',\n",
       " '__format__',\n",
       " '__ge__',\n",
       " '__getattribute__',\n",
       " '__getitem__',\n",
       " '__getnewargs__',\n",
       " '__gt__',\n",
       " '__hash__',\n",
       " '__init__',\n",
       " '__init_subclass__',\n",
       " '__iter__',\n",
       " '__le__',\n",
       " '__len__',\n",
       " '__lt__',\n",
       " '__mod__',\n",
       " '__mul__',\n",
       " '__ne__',\n",
       " '__new__',\n",
       " '__reduce__',\n",
       " '__reduce_ex__',\n",
       " '__repr__',\n",
       " '__rmod__',\n",
       " '__rmul__',\n",
       " '__setattr__',\n",
       " '__sizeof__',\n",
       " '__str__',\n",
       " '__subclasshook__',\n",
       " 'capitalize',\n",
       " 'casefold',\n",
       " 'center',\n",
       " 'count',\n",
       " 'encode',\n",
       " 'endswith',\n",
       " 'expandtabs',\n",
       " 'find',\n",
       " 'format',\n",
       " 'format_map',\n",
       " 'index',\n",
       " 'isalnum',\n",
       " 'isalpha',\n",
       " 'isascii',\n",
       " 'isdecimal',\n",
       " 'isdigit',\n",
       " 'isidentifier',\n",
       " 'islower',\n",
       " 'isnumeric',\n",
       " 'isprintable',\n",
       " 'isspace',\n",
       " 'istitle',\n",
       " 'isupper',\n",
       " 'join',\n",
       " 'ljust',\n",
       " 'lower',\n",
       " 'lstrip',\n",
       " 'maketrans',\n",
       " 'partition',\n",
       " 'removeprefix',\n",
       " 'removesuffix',\n",
       " 'replace',\n",
       " 'rfind',\n",
       " 'rindex',\n",
       " 'rjust',\n",
       " 'rpartition',\n",
       " 'rsplit',\n",
       " 'rstrip',\n",
       " 'split',\n",
       " 'splitlines',\n",
       " 'startswith',\n",
       " 'strip',\n",
       " 'swapcase',\n",
       " 'title',\n",
       " 'translate',\n",
       " 'upper',\n",
       " 'zfill']"
      ]
     },
     "execution_count": 40,
     "metadata": {},
     "output_type": "execute_result"
    }
   ],
   "source": [
    "dir('ab') # __get__ 과 __len__이 있음"
   ]
  },
  {
   "cell_type": "code",
   "execution_count": 42,
   "id": "7f37d5ae",
   "metadata": {},
   "outputs": [],
   "source": [
    "# range : 숫자로 만든 Container  : __get__, __len__ 둘 다 다 있다."
   ]
  },
  {
   "cell_type": "code",
   "execution_count": 43,
   "id": "92f12082",
   "metadata": {},
   "outputs": [],
   "source": [
    "a = 1,2\n",
    "# , 는 container 안에서 element를 구별시켜주는 연산자 이다.\n"
   ]
  },
  {
   "cell_type": "code",
   "execution_count": 44,
   "id": "49fa077f",
   "metadata": {},
   "outputs": [
    {
     "data": {
      "text/plain": [
       "(1, 2)"
      ]
     },
     "execution_count": 44,
     "metadata": {},
     "output_type": "execute_result"
    }
   ],
   "source": [
    "a"
   ]
  },
  {
   "cell_type": "code",
   "execution_count": 45,
   "id": "a080423e",
   "metadata": {},
   "outputs": [],
   "source": [
    "def a():\n",
    "    return 1,2"
   ]
  },
  {
   "cell_type": "code",
   "execution_count": 48,
   "id": "c38391e4",
   "metadata": {},
   "outputs": [],
   "source": [
    "def v(*a):\n",
    "    return a"
   ]
  },
  {
   "cell_type": "code",
   "execution_count": null,
   "id": "13cbde7d",
   "metadata": {},
   "outputs": [],
   "source": [
    "# 기본적인 데이터 타입은 Tuple이다.\n",
    "# Tuple은 형태가 일정한 immutable dataset이다. (형태가 다르다는 것은 어떤 의미이냐?)"
   ]
  },
  {
   "cell_type": "code",
   "execution_count": 49,
   "id": "145b02d2",
   "metadata": {},
   "outputs": [
    {
     "data": {
      "text/plain": [
       "((1, 2, 3, 4),)"
      ]
     },
     "execution_count": 49,
     "metadata": {},
     "output_type": "execute_result"
    }
   ],
   "source": [
    "v((1,2,3,4))  # "
   ]
  },
  {
   "cell_type": "markdown",
   "id": "03da3346",
   "metadata": {},
   "source": [
    "# List"
   ]
  },
  {
   "cell_type": "code",
   "execution_count": 50,
   "id": "152afbd5",
   "metadata": {},
   "outputs": [
    {
     "data": {
      "text/plain": [
       "1860689059264"
      ]
     },
     "execution_count": 50,
     "metadata": {},
     "output_type": "execute_result"
    }
   ],
   "source": [
    "id(a) # 리스트를 지정하는 즉시, id로 저장되어진다. 3단계로 나누어진다. "
   ]
  },
  {
   "cell_type": "code",
   "execution_count": 51,
   "id": "60d8f9a1",
   "metadata": {},
   "outputs": [],
   "source": [
    "a = 2"
   ]
  },
  {
   "cell_type": "code",
   "execution_count": 52,
   "id": "2fa23231",
   "metadata": {},
   "outputs": [
    {
     "data": {
      "text/plain": [
       "1860549896528"
      ]
     },
     "execution_count": 52,
     "metadata": {},
     "output_type": "execute_result"
    }
   ],
   "source": [
    "id(a)"
   ]
  },
  {
   "cell_type": "code",
   "execution_count": null,
   "id": "87ff2bfc",
   "metadata": {},
   "outputs": [],
   "source": []
  },
  {
   "cell_type": "code",
   "execution_count": null,
   "id": "4e3e5e9f",
   "metadata": {},
   "outputs": [],
   "source": []
  }
 ],
 "metadata": {
  "kernelspec": {
   "display_name": "Python 3 (ipykernel)",
   "language": "python",
   "name": "python3"
  },
  "language_info": {
   "codemirror_mode": {
    "name": "ipython",
    "version": 3
   },
   "file_extension": ".py",
   "mimetype": "text/x-python",
   "name": "python",
   "nbconvert_exporter": "python",
   "pygments_lexer": "ipython3",
   "version": "3.9.12"
  }
 },
 "nbformat": 4,
 "nbformat_minor": 5
}
